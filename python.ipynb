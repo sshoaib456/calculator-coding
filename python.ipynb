{
  "nbformat": 4,
  "nbformat_minor": 0,
  "metadata": {
    "colab": {
      "name": "python.ipynb",
      "provenance": []
    },
    "kernelspec": {
      "name": "python3",
      "display_name": "Python 3"
    },
    "language_info": {
      "name": "python"
    }
  },
  "cells": [
    {
      "cell_type": "code",
      "metadata": {
        "colab": {
          "base_uri": "https://localhost:8080/"
        },
        "id": "D12SbPR9S5Dp",
        "outputId": "01e485c5-e365-44db-e47f-c9d8190cbcfe"
      },
      "source": [
        "def addition (num1,num2):\n",
        "  result= num1 + num2\n",
        "  print(result)\n",
        "num1=10\n",
        "num2=5\n",
        "\n",
        "value = addition (num1,num2)\n",
        "print(value)\n",
        "\n",
        "def sub (num1,num2):\n",
        "    result= num1 - num2\n",
        "    print(result)\n",
        "\n",
        "value = sub (num1,num2)\n",
        "print(value)\n",
        "\n",
        "def multiplication (num1,num2):\n",
        "    result= num1 * num2\n",
        "    print(result)\n",
        "\n",
        "value = multiplication (num1,num2)\n",
        "print(value)\n",
        "\n",
        "def div (num1,num2):\n",
        "    result= num1 % num2\n",
        "    print(result)\n",
        "\n",
        "value = div (num1,num2)\n",
        "print(value)\n",
        "\n",
        "num1= int(input ( ))\n",
        "num1= int(input ( ))\n",
        "\n"
      ],
      "execution_count": null,
      "outputs": [
        {
          "output_type": "stream",
          "name": "stdout",
          "text": [
            "15\n",
            "None\n",
            "5\n",
            "None\n",
            "50\n",
            "None\n",
            "0\n",
            "None\n"
          ]
        }
      ]
    },
    {
      "cell_type": "markdown",
      "metadata": {
        "id": "DVmnXCLIg1va"
      },
      "source": [
        "# New Section"
      ]
    },
    {
      "cell_type": "code",
      "metadata": {
        "id": "0xN9dFzPg3j0"
      },
      "source": [
        ""
      ],
      "execution_count": null,
      "outputs": []
    },
    {
      "cell_type": "code",
      "metadata": {
        "id": "J5SCM0e9g4CC"
      },
      "source": [
        ""
      ],
      "execution_count": null,
      "outputs": []
    },
    {
      "cell_type": "markdown",
      "metadata": {
        "id": "ytahSXClg4Jz"
      },
      "source": [
        ""
      ]
    },
    {
      "cell_type": "code",
      "metadata": {
        "id": "9OLrWrW7g4f7"
      },
      "source": [
        ""
      ],
      "execution_count": null,
      "outputs": []
    }
  ]
}